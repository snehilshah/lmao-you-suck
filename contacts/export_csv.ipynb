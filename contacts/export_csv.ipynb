{
 "cells": [
  {
   "cell_type": "code",
   "execution_count": 28,
   "metadata": {},
   "outputs": [],
   "source": [
    "import pandas as pd"
   ]
  },
  {
   "cell_type": "code",
   "execution_count": 29,
   "metadata": {},
   "outputs": [],
   "source": [
    "df = pd.read_csv('OG.csv')\n",
    "og = df"
   ]
  },
  {
   "cell_type": "code",
   "execution_count": 30,
   "metadata": {},
   "outputs": [],
   "source": [
    "df = df.groupby(\"ID\", as_index=False).agg(lambda x: ','.join(x.tolist()))"
   ]
  },
  {
   "cell_type": "code",
   "execution_count": 31,
   "metadata": {},
   "outputs": [
    {
     "data": {
      "text/html": [
       "<div>\n",
       "<style scoped>\n",
       "    .dataframe tbody tr th:only-of-type {\n",
       "        vertical-align: middle;\n",
       "    }\n",
       "\n",
       "    .dataframe tbody tr th {\n",
       "        vertical-align: top;\n",
       "    }\n",
       "\n",
       "    .dataframe thead th {\n",
       "        text-align: right;\n",
       "    }\n",
       "</style>\n",
       "<table border=\"1\" class=\"dataframe\">\n",
       "  <thead>\n",
       "    <tr style=\"text-align: right;\">\n",
       "      <th></th>\n",
       "      <th>ID</th>\n",
       "      <th>MFName</th>\n",
       "      <th>Mno</th>\n",
       "    </tr>\n",
       "  </thead>\n",
       "  <tbody>\n",
       "    <tr>\n",
       "      <th>0</th>\n",
       "      <td>1001</td>\n",
       "      <td>VASANT,RITA</td>\n",
       "      <td>9322344686,9821095534</td>\n",
       "    </tr>\n",
       "    <tr>\n",
       "      <th>1</th>\n",
       "      <td>1002</td>\n",
       "      <td>KIRAN,INDUPAMA,BHAVYA,TRUSHTI</td>\n",
       "      <td>9223337404,9819713936,9326738045,9769279448</td>\n",
       "    </tr>\n",
       "    <tr>\n",
       "      <th>2</th>\n",
       "      <td>1003</td>\n",
       "      <td>NARENDRA,ANJANA</td>\n",
       "      <td>9324802920,9821053621</td>\n",
       "    </tr>\n",
       "    <tr>\n",
       "      <th>3</th>\n",
       "      <td>1004</td>\n",
       "      <td>JAYESH,JOLLY</td>\n",
       "      <td>8169152683,8169141643</td>\n",
       "    </tr>\n",
       "    <tr>\n",
       "      <th>4</th>\n",
       "      <td>1005</td>\n",
       "      <td>INDUKUMAR,MEERA</td>\n",
       "      <td>8104089344,9920325275</td>\n",
       "    </tr>\n",
       "  </tbody>\n",
       "</table>\n",
       "</div>"
      ],
      "text/plain": [
       "     ID                         MFName  \\\n",
       "0  1001                    VASANT,RITA   \n",
       "1  1002  KIRAN,INDUPAMA,BHAVYA,TRUSHTI   \n",
       "2  1003                NARENDRA,ANJANA   \n",
       "3  1004                   JAYESH,JOLLY   \n",
       "4  1005                INDUKUMAR,MEERA   \n",
       "\n",
       "                                           Mno  \n",
       "0                        9322344686,9821095534  \n",
       "1  9223337404,9819713936,9326738045,9769279448  \n",
       "2                        9324802920,9821053621  \n",
       "3                        8169152683,8169141643  \n",
       "4                        8104089344,9920325275  "
      ]
     },
     "execution_count": 31,
     "metadata": {},
     "output_type": "execute_result"
    }
   ],
   "source": [
    "df_old = df\n",
    "df.head()"
   ]
  },
  {
   "cell_type": "code",
   "execution_count": 32,
   "metadata": {},
   "outputs": [],
   "source": [
    "new_df = df['Mno'].str.split(',', expand=True)"
   ]
  },
  {
   "cell_type": "code",
   "execution_count": 33,
   "metadata": {},
   "outputs": [],
   "source": [
    "og.drop(columns=['Mno'], inplace=True)"
   ]
  },
  {
   "cell_type": "code",
   "execution_count": 34,
   "metadata": {},
   "outputs": [
    {
     "data": {
      "text/html": [
       "<div>\n",
       "<style scoped>\n",
       "    .dataframe tbody tr th:only-of-type {\n",
       "        vertical-align: middle;\n",
       "    }\n",
       "\n",
       "    .dataframe tbody tr th {\n",
       "        vertical-align: top;\n",
       "    }\n",
       "\n",
       "    .dataframe thead th {\n",
       "        text-align: right;\n",
       "    }\n",
       "</style>\n",
       "<table border=\"1\" class=\"dataframe\">\n",
       "  <thead>\n",
       "    <tr style=\"text-align: right;\">\n",
       "      <th></th>\n",
       "      <th>MFName</th>\n",
       "      <th>0</th>\n",
       "      <th>1</th>\n",
       "      <th>2</th>\n",
       "      <th>3</th>\n",
       "      <th>4</th>\n",
       "      <th>5</th>\n",
       "    </tr>\n",
       "  </thead>\n",
       "  <tbody>\n",
       "    <tr>\n",
       "      <th>0</th>\n",
       "      <td>VASANT</td>\n",
       "      <td>9322344686</td>\n",
       "      <td>9821095534</td>\n",
       "      <td>None</td>\n",
       "      <td>None</td>\n",
       "      <td>None</td>\n",
       "      <td>None</td>\n",
       "    </tr>\n",
       "    <tr>\n",
       "      <th>1</th>\n",
       "      <td>RITA</td>\n",
       "      <td>9223337404</td>\n",
       "      <td>9819713936</td>\n",
       "      <td>9326738045</td>\n",
       "      <td>9769279448</td>\n",
       "      <td>None</td>\n",
       "      <td>None</td>\n",
       "    </tr>\n",
       "    <tr>\n",
       "      <th>2</th>\n",
       "      <td>KIRAN</td>\n",
       "      <td>9324802920</td>\n",
       "      <td>9821053621</td>\n",
       "      <td>None</td>\n",
       "      <td>None</td>\n",
       "      <td>None</td>\n",
       "      <td>None</td>\n",
       "    </tr>\n",
       "    <tr>\n",
       "      <th>3</th>\n",
       "      <td>INDUPAMA</td>\n",
       "      <td>8169152683</td>\n",
       "      <td>8169141643</td>\n",
       "      <td>None</td>\n",
       "      <td>None</td>\n",
       "      <td>None</td>\n",
       "      <td>None</td>\n",
       "    </tr>\n",
       "    <tr>\n",
       "      <th>4</th>\n",
       "      <td>BHAVYA</td>\n",
       "      <td>8104089344</td>\n",
       "      <td>9920325275</td>\n",
       "      <td>None</td>\n",
       "      <td>None</td>\n",
       "      <td>None</td>\n",
       "      <td>None</td>\n",
       "    </tr>\n",
       "  </tbody>\n",
       "</table>\n",
       "</div>"
      ],
      "text/plain": [
       "     MFName           0           1           2           3     4     5\n",
       "0    VASANT  9322344686  9821095534        None        None  None  None\n",
       "1      RITA  9223337404  9819713936  9326738045  9769279448  None  None\n",
       "2     KIRAN  9324802920  9821053621        None        None  None  None\n",
       "3  INDUPAMA  8169152683  8169141643        None        None  None  None\n",
       "4    BHAVYA  8104089344  9920325275        None        None  None  None"
      ]
     },
     "execution_count": 34,
     "metadata": {},
     "output_type": "execute_result"
    }
   ],
   "source": [
    "res = pd.concat([og, new_df], axis=1)\n",
    "temp = pd.read_csv('OG_back.csv')\n",
    "temp.drop(columns=['MNoFinal', 'MPer', 'MFName', 'MMobile'], inplace=True)\n",
    "res.drop(columns=['ID'], inplace=True)\n",
    "pd.concat([temp, res], axis=1).to_csv('OG_final.csv', index=False)\n",
    "res.head()"
   ]
  }
 ],
 "metadata": {
  "kernelspec": {
   "display_name": "Python 3",
   "language": "python",
   "name": "python3"
  },
  "language_info": {
   "codemirror_mode": {
    "name": "ipython",
    "version": 3
   },
   "file_extension": ".py",
   "mimetype": "text/x-python",
   "name": "python",
   "nbconvert_exporter": "python",
   "pygments_lexer": "ipython3",
   "version": "3.10.11"
  }
 },
 "nbformat": 4,
 "nbformat_minor": 2
}
