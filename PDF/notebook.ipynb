{
 "cells": [
  {
   "metadata": {},
   "cell_type": "markdown",
   "source": "# PDF Merger",
   "id": "8a77807f92f26ee"
  },
  {
   "metadata": {},
   "cell_type": "markdown",
   "source": "## Step 1 break all pdf in individual files and assign proper file names to recogise",
   "id": "9804f0ebe760588c"
  },
  {
   "metadata": {
    "ExecuteTime": {
     "end_time": "2025-04-21T04:14:13.295575Z",
     "start_time": "2025-04-21T04:14:13.216966Z"
    }
   },
   "cell_type": "code",
   "source": [
    "import glob\n",
    "\n",
    "from PyPDF2 import PdfWriter, PdfReader\n",
    "import pdfquery\n",
    "\n",
    "from pypdf import PdfWriter\n",
    "import glob\n",
    "import os"
   ],
   "id": "10f173670fe12309",
   "outputs": [],
   "execution_count": 6
  },
  {
   "metadata": {
    "ExecuteTime": {
     "end_time": "2025-04-21T03:58:30.209452Z",
     "start_time": "2025-04-21T03:55:32.726274Z"
    }
   },
   "cell_type": "code",
   "source": [
    "stage1_input = './data/*.pdf'\n",
    "\n",
    "for filename in glob.glob(stage1_input):\n",
    "    input_pdf = PdfReader(open(filename, \"rb\"))\n",
    "\n",
    "    for i in range(len(input_pdf.pages)):\n",
    "        qpdf = pdfquery.PDFQuery(filename)\n",
    "        qpdf.load(i)\n",
    "        id = qpdf.pq(\n",
    "            'LTTextLineHorizontal:in_bbox(\"137.93, 137.518, 186.399, 147.478\")').text()\n",
    "        # 137.93, 137.518, 186.399, 147.478\n",
    "        res = id.strip().strip('-').strip()\n",
    "\n",
    "        output = PdfWriter()\n",
    "        output.add_page(input_pdf.pages[i])\n",
    "        res = res.replace(\"/\", \"_\")\n",
    "        with open(\"./stage1_out/%s.pdf\" % res, \"wb\") as outputStream:\n",
    "            output.write(outputStream)"
   ],
   "id": "fbc121e30a2defb3",
   "outputs": [],
   "execution_count": 4
  },
  {
   "metadata": {},
   "cell_type": "markdown",
   "source": "## Stage 2 combine pdf files based on similar names",
   "id": "8f0165370f931fb7"
  },
  {
   "metadata": {
    "ExecuteTime": {
     "end_time": "2025-04-21T04:14:48.585666Z",
     "start_time": "2025-04-21T04:14:38.516746Z"
    }
   },
   "cell_type": "code",
   "source": [
    "globnames = glob.glob(\"./stage1_out/*.pdf\")\n",
    "\n",
    "finalnames = []\n",
    "for filepath in globnames:\n",
    "    filename = os.path.basename(filepath)  # Gets \"1001 - 2_2.pdf\"\n",
    "    filename = os.path.splitext(filename)[0]  # Removes .pdf extension\n",
    "    finalnames.append(filename)\n",
    "\n",
    "merger = PdfWriter()\n",
    "prev = -1\n",
    "\n",
    "for filename, file in zip(finalnames, globnames):\n",
    "    filename = str(filename)\n",
    "    filename = filename.strip()\n",
    "    filename = filename.split(\" - \")[0].strip()\n",
    "    if prev == filename or prev == -1:\n",
    "        merger.append(file)\n",
    "        prev = filename\n",
    "\n",
    "    else:\n",
    "        merger.write(f\"./stage2_out/{prev}.pdf\")\n",
    "        merger.close()\n",
    "        merger = PdfWriter()\n",
    "        merger.append(file)\n",
    "        prev = filename\n",
    "\n",
    "merger.write(f\"./stage2_out/{prev}.pdf\")\n",
    "merger.close()"
   ],
   "id": "85effcea61f99c82",
   "outputs": [],
   "execution_count": 8
  }
 ],
 "metadata": {
  "kernelspec": {
   "display_name": "Python 3",
   "language": "python",
   "name": "python3"
  },
  "language_info": {
   "codemirror_mode": {
    "name": "ipython",
    "version": 2
   },
   "file_extension": ".py",
   "mimetype": "text/x-python",
   "name": "python",
   "nbconvert_exporter": "python",
   "pygments_lexer": "ipython2",
   "version": "2.7.6"
  }
 },
 "nbformat": 4,
 "nbformat_minor": 5
}
